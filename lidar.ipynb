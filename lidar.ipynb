{
 "cells": [
  {
   "cell_type": "code",
   "execution_count": 1,
   "metadata": {},
   "outputs": [],
   "source": [
    "import matplotlib.pyplot as plt\n",
    "import pandas as pd\n",
    "import geopandas as gpd\n",
    "import libpysal as ps"
   ]
  },
  {
   "cell_type": "code",
   "execution_count": 2,
   "metadata": {},
   "outputs": [],
   "source": [
    "file_name = \"Data/BayouMeto_Lidar_QA.csv\"\n",
    "\n",
    "# Read file into pandas DataFrame\n",
    "lidar_info = pd.read_csv(file_name)"
   ]
  },
  {
   "cell_type": "code",
   "execution_count": 4,
   "metadata": {},
   "outputs": [
    {
     "data": {
      "text/html": [
       "<div>\n",
       "<style scoped>\n",
       "    .dataframe tbody tr th:only-of-type {\n",
       "        vertical-align: middle;\n",
       "    }\n",
       "\n",
       "    .dataframe tbody tr th {\n",
       "        vertical-align: top;\n",
       "    }\n",
       "\n",
       "    .dataframe thead th {\n",
       "        text-align: right;\n",
       "    }\n",
       "</style>\n",
       "<table border=\"1\" class=\"dataframe\">\n",
       "  <thead>\n",
       "    <tr style=\"text-align: right;\">\n",
       "      <th></th>\n",
       "      <th>Region</th>\n",
       "      <th>ID</th>\n",
       "      <th>Description</th>\n",
       "      <th>X</th>\n",
       "      <th>Y</th>\n",
       "      <th>GPS-Z</th>\n",
       "      <th>Lidar-Z</th>\n",
       "      <th>LandCover</th>\n",
       "    </tr>\n",
       "  </thead>\n",
       "  <tbody>\n",
       "    <tr>\n",
       "      <th>0</th>\n",
       "      <td>North</td>\n",
       "      <td>21</td>\n",
       "      <td>Lonoke Park</td>\n",
       "      <td>600612.683</td>\n",
       "      <td>3849204.812</td>\n",
       "      <td>73.620</td>\n",
       "      <td>73.684</td>\n",
       "      <td>Asphalt</td>\n",
       "    </tr>\n",
       "    <tr>\n",
       "      <th>1</th>\n",
       "      <td>North</td>\n",
       "      <td>22</td>\n",
       "      <td>Lonoke HS Parking</td>\n",
       "      <td>600123.308</td>\n",
       "      <td>3849067.230</td>\n",
       "      <td>73.852</td>\n",
       "      <td>73.973</td>\n",
       "      <td>Asphalt</td>\n",
       "    </tr>\n",
       "    <tr>\n",
       "      <th>2</th>\n",
       "      <td>North</td>\n",
       "      <td>26</td>\n",
       "      <td>England HS Parking</td>\n",
       "      <td>595917.787</td>\n",
       "      <td>3822919.619</td>\n",
       "      <td>68.964</td>\n",
       "      <td>69.088</td>\n",
       "      <td>Asphalt</td>\n",
       "    </tr>\n",
       "    <tr>\n",
       "      <th>3</th>\n",
       "      <td>North</td>\n",
       "      <td>39</td>\n",
       "      <td>Carlisle Park</td>\n",
       "      <td>614680.847</td>\n",
       "      <td>3850053.041</td>\n",
       "      <td>70.818</td>\n",
       "      <td>70.955</td>\n",
       "      <td>Asphalt</td>\n",
       "    </tr>\n",
       "    <tr>\n",
       "      <th>4</th>\n",
       "      <td>South</td>\n",
       "      <td>8</td>\n",
       "      <td>5800-50063355</td>\n",
       "      <td>613953.929</td>\n",
       "      <td>3805055.048</td>\n",
       "      <td>58.563</td>\n",
       "      <td>58.518</td>\n",
       "      <td>Asphalt</td>\n",
       "    </tr>\n",
       "  </tbody>\n",
       "</table>\n",
       "</div>"
      ],
      "text/plain": [
       "  Region  ID         Description           X            Y   GPS-Z  Lidar-Z  \\\n",
       "0  North  21         Lonoke Park  600612.683  3849204.812  73.620   73.684   \n",
       "1  North  22   Lonoke HS Parking  600123.308  3849067.230  73.852   73.973   \n",
       "2  North  26  England HS Parking  595917.787  3822919.619  68.964   69.088   \n",
       "3  North  39       Carlisle Park  614680.847  3850053.041  70.818   70.955   \n",
       "4  South   8       5800-50063355  613953.929  3805055.048  58.563   58.518   \n",
       "\n",
       "  LandCover  \n",
       "0   Asphalt  \n",
       "1   Asphalt  \n",
       "2   Asphalt  \n",
       "3   Asphalt  \n",
       "4   Asphalt  "
      ]
     },
     "execution_count": 4,
     "metadata": {},
     "output_type": "execute_result"
    }
   ],
   "source": [
    "lidar_info.head()"
   ]
  },
  {
   "cell_type": "code",
   "execution_count": 43,
   "metadata": {},
   "outputs": [
    {
     "data": {
      "text/plain": [
       "<AxesSubplot:xlabel='X', ylabel='Y'>"
      ]
     },
     "execution_count": 43,
     "metadata": {},
     "output_type": "execute_result"
    },
    {
     "data": {
      "image/png": "[encoded data removed]",
      "text/plain": [
       "<Figure size 432x288 with 1 Axes>"
      ]
     },
     "metadata": {
      "needs_background": "light"
     },
     "output_type": "display_data"
    }
   ],
   "source": [
    "df = pd.DataFrame(lidar_info)\n",
    "df.plot.scatter(x='X', y='Y')\n"
   ]
  },
  {
   "cell_type": "code",
   "execution_count": 32,
   "metadata": {},
   "outputs": [
    {
     "name": "stdout",
     "output_type": "stream",
     "text": [
      "stdev lidar-Z =  6.760021637615196\n",
      "stdev GPS-Z =  6.728254102605726\n",
      "mean lidar-Z =  61.82535\n",
      "mean GPS-Z =  61.755250000000004\n",
      "STDEV difference is:  0.03176753500946994\n",
      "Mean difference is:  0.0700999999999965\n"
     ]
    }
   ],
   "source": [
    "lid_stdev = lidar_info['Lidar-Z'].std()\n",
    "gps_stdev = lidar_info['GPS-Z'].std()\n",
    "lid_mean = lidar_info['Lidar-Z'].mean()\n",
    "gps_mean = lidar_info['GPS-Z'].mean()\n",
    "\n",
    "print(\"stdev lidar-Z = \", lidar_info['Lidar-Z'].std())\n",
    "print(\"stdev GPS-Z = \", lidar_info['GPS-Z'].std())\n",
    "print(\"mean lidar-Z = \", lidar_info['Lidar-Z'].mean())\n",
    "print(\"mean GPS-Z = \", lidar_info['GPS-Z'].mean())\n",
    "print(\"STDEV difference is: \", lid_stdev - gps_stdev)\n",
    "print(\"Mean difference is: \", lid_mean - gps_mean)"
   ]
  },
  {
   "cell_type": "code",
   "execution_count": 38,
   "metadata": {},
   "outputs": [
    {
     "name": "stdout",
     "output_type": "stream",
     "text": [
      "           ID            X             Y    GPS-Z  Lidar-Z\n",
      "Region                                                    \n",
      "North   30.65  607650.4276  3.834474e+06  66.8123  66.9520\n",
      "South   10.50  634561.2723  3.793753e+06  56.6982  56.6987\n",
      "              ID             X             Y     GPS-Z   Lidar-Z\n",
      "Region                                                          \n",
      "North   6.149668  11840.210418  11587.246524  5.527304  5.475289\n",
      "South   5.916080  11020.376044  14471.719863  2.920759  2.913843\n",
      "               ID              X             Y      GPS-Z    Lidar-Z\n",
      "Region                                                              \n",
      "North   24.500332  595810.217182  3.822886e+06  61.284996  61.476711\n",
      "South    4.583920  623540.896256  3.779281e+06  53.777441  53.784857\n"
     ]
    },
    {
     "data": {
      "text/plain": [
       "<AxesSubplot:xlabel='X'>"
      ]
     },
     "execution_count": 38,
     "metadata": {},
     "output_type": "execute_result"
    },
    {
     "data": {
      "image/png": "[encoded data removed]",
      "text/plain": [
       "<Figure size 432x288 with 1 Axes>"
      ]
     },
     "metadata": {
      "needs_background": "light"
     },
     "output_type": "display_data"
    }
   ],
   "source": [
    "t1 = lidar_info.groupby([\"Region\"]).mean()\n",
    "t2 = lidar_info.groupby([\"Region\"]).std()\n",
    "diffy = t1-t2\n",
    "print(t1)\n",
    "print(t2)\n",
    "print(diffy)\n",
    "\n",
    "\n"
   ]
  },
  {
   "cell_type": "code",
   "execution_count": 20,
   "metadata": {},
   "outputs": [
    {
     "name": "stdout",
     "output_type": "stream",
     "text": [
      "                  ID              X             Y      GPS-Z    Lidar-Z\n",
      "LandCover                                                              \n",
      "Asphalt    18.714286  612264.622000  3.824281e+06  65.982857  66.031571\n",
      "Dirt       19.285714  620431.068000  3.811428e+06  60.631286  60.650429\n",
      "Forest     18.428571  636038.514286  3.794406e+06  55.674429  55.780571\n",
      "Grass      24.500000  609484.451900  3.823460e+06  65.426800  65.505700\n",
      "Scrub      20.333333  629805.561000  3.813236e+06  59.991333  60.079889\n",
      "                  ID             X             Y     GPS-Z   Lidar-Z\n",
      "LandCover                                                           \n",
      "Asphalt    11.912379  14883.019609  25472.159668  7.623196  7.705817\n",
      "Dirt       13.161994  19322.403162  25214.350098  5.303142  5.319911\n",
      "Forest     10.845232  13668.268701  26984.602264  2.734621  2.840509\n",
      "Grass      11.664285  15898.210478  21949.282855  7.294789  7.326083\n",
      "Scrub      13.228757  11753.902787  17053.087042  4.592138  4.643853\n"
     ]
    }
   ],
   "source": [
    "print(lidar_info.groupby([\"LandCover\"]).mean())\n",
    "print(lidar_info.groupby([\"LandCover\"]).std())"
   ]
  },
  {
   "cell_type": "code",
   "execution_count": null,
   "metadata": {},
   "outputs": [],
   "source": [
    "#Measurement quality is affected by landcover. Regions have landcover that affect how measurements are made."
   ]
  },
  {
   "cell_type": "code",
   "execution_count": 44,
   "metadata": {},
   "outputs": [
    {
     "name": "stdout",
     "output_type": "stream",
     "text": [
      "                         ID              X             Y      GPS-Z    Lidar-Z\n",
      "LandCover Region                                                              \n",
      "Asphalt   North   18.713465  594659.226892  3.829543e+06  69.466190  69.595633\n",
      "          South    6.139141  612623.965470  3.790629e+06  55.483833  55.360318\n",
      "Dirt      North   25.137012  596490.135553  3.822060e+06  60.260749  60.301995\n",
      "          South    0.432236  625300.702565  3.773069e+06  55.113008  55.053772\n",
      "Forest    North   31.792893  621725.703220  3.821649e+06  58.141529  58.602979\n"
     ]
    },
    {
     "data": {
      "text/plain": [
       "<AxesSubplot:xlabel='X', ylabel='Y'>"
      ]
     },
     "execution_count": 44,
     "metadata": {},
     "output_type": "execute_result"
    },
    {
     "data": {
      "image/png": "[encoded data removed]",
      "text/plain": [
       "<Figure size 432x288 with 1 Axes>"
      ]
     },
     "metadata": {
      "needs_background": "light"
     },
     "output_type": "display_data"
    }
   ],
   "source": [
    "both = lidar_info.groupby([\"LandCover\", \"Region\"]).mean()\n",
    "bothstd = lidar_info.groupby([\"LandCover\", \"Region\"]).std()\n",
    "\n",
    "diff = both - bothstd\n",
    "print(diff.head())\n",
    "df = pd.DataFrame(diff)\n",
    "\n",
    "df.plot.scatter(x='X', y='Y')\n",
    "#df.plot(x='x', y='Y')\n",
    "\n"
   ]
  },
  {
   "cell_type": "code",
   "execution_count": null,
   "metadata": {},
   "outputs": [],
   "source": [
    "\n"
   ]
  }
 ],
 "metadata": {
  "kernelspec": {
   "display_name": "Python 3.9.12 ('base')",
   "language": "python",
   "name": "python3"
  },
  "language_info": {
   "codemirror_mode": {
    "name": "ipython",
    "version": 3
   },
   "file_extension": ".py",
   "mimetype": "text/x-python",
   "name": "python",
   "nbconvert_exporter": "python",
   "pygments_lexer": "ipython3",
   "version": "3.9.12"
  },
  "orig_nbformat": 4,
  "vscode": {
   "interpreter": {
    "hash": "9b52aabeb46064483a5f8e6365d564894abf708f8ed3a9662a7e0aac26d7e6c1"
   }
  }
 },
 "nbformat": 4,
 "nbformat_minor": 2
}
